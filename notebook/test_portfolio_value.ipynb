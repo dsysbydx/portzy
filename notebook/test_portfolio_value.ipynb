{
 "cells": [
  {
   "cell_type": "code",
   "execution_count": 7,
   "metadata": {},
   "outputs": [
    {
     "name": "stdout",
     "output_type": "stream",
     "text": [
      "The autoreload extension is already loaded. To reload it, use:\n",
      "  %reload_ext autoreload\n"
     ]
    }
   ],
   "source": [
    "%load_ext autoreload\n",
    "%autoreload 2\n",
    "\n",
    "import sys\n",
    "sys.path.append(\"/Users/sunny/Github/portzy/\")\n",
    "\n",
    "import pandas as pd\n",
    "import numpy as np\n",
    "import datetime as dt\n",
    "import seaborn as sns\n",
    "import matplotlib.pyplot as plt\n",
    "\n",
    "pd.options.display.float_format = '{:.4f}'.format\n",
    "pd.set_option('display.max_rows', 2000)\n",
    "pd.set_option('display.max_colwidth', -1)\n",
    "sns.set_style('darkgrid')\n",
    "%matplotlib inline\n",
    "\n",
    "from portfolio import Portfolio\n",
    "import gsutils"
   ]
  },
  {
   "cell_type": "code",
   "execution_count": 2,
   "metadata": {
    "scrolled": true
   },
   "outputs": [],
   "source": [
    "GS_URL = 'https://docs.google.com/spreadsheets/d/14yFTnITXiT8c-DVd1InqguhPqpcNFjh9_y_qNButXQQ/edit?usp=sharing'\n",
    "#GS_URL = 'https://docs.google.com/spreadsheets/d/1l8BOq_xzSaVBoPH9VT5BqcSsaXXW_Jpv3cUXs17SHio/edit?usp=sharing'"
   ]
  },
  {
   "cell_type": "code",
   "execution_count": 3,
   "metadata": {
    "scrolled": true
   },
   "outputs": [
    {
     "name": "stdout",
     "output_type": "stream",
     "text": [
      "Updating Position from trade log:  Cash D 60000.0 1.0\n",
      "Updating Position from trade log:  FB B 7.0 134.0\n",
      "Updating Position from trade log:  GOOGL B 6.0 851.89\n",
      "Updating Position from trade log:  FB B 30.0 142.0\n",
      "Updating Position from trade log:  NVDA B 50.0 104.45\n",
      "Updating Position from trade log:  BKNG B 3.0 1819.99\n",
      "Updating Position from trade log:  V B 55.0 93.0\n",
      "Updating Position from trade log:  MCO B 48.0 115.29\n",
      "Updating Position from trade log:  FB B 8.0 151.39\n",
      "Updating Position from trade log:  DIS B 7.0 105.76\n",
      "Updating Position from trade log:  FDS B 3.0 169.65\n",
      "Updating Position from trade log:  SBUX B 19.0 58.26\n",
      "Updating Position from trade log:  GOOGL B 1.0 940.72\n",
      "Updating Position from trade log:  MCO B 6.0 121.46\n",
      "Updating Position from trade log:  MA B 6.0 121.75\n",
      "Updating Position from trade log:  V B 13.0 94.5\n",
      "Updating Position from trade log:  CPALL.BK B 600.0 60.5\n",
      "Updating Position from trade log:  SCC.BK B 100.0 498.0\n",
      "Updating Position from trade log:  HMPRO.BK B 3400.0 9.6\n",
      "Updating Position from trade log:  MINT.BK B 1000.0 40.75\n",
      "Updating Position from trade log:  INTUCH.BK B 600.0 57.5\n",
      "Updating Position from trade log:  AOT.BK B 300.0 49.0\n",
      "Updating Position from trade log:  SVH.BK B 100.0 349.0\n",
      "Updating Position from trade log:  MC.BK B 2200.0 17.7\n",
      "Updating Position from trade log:  THIP.BK B 3000.0 39.0\n",
      "Updating Position from trade log:  V B 11.0 98.69\n",
      "Updating Position from trade log:  FDS B 5.0 165.67\n",
      "Updating Position from trade log:  FB B 7.0 163.78\n",
      "Updating Position from trade log:  MA B 9.0 128.43\n",
      "Updating Position from trade log:  DIS B 8.0 107.58\n",
      "Updating Position from trade log:  SBUX B 12.0 58.1\n",
      "Updating Position from trade log:  MCO B 3.0 127.55\n",
      "Updating Position from trade log:  GOOGL B 1.0 989.0\n",
      "Updating Position from trade log:  SBUX B 77.0 58.06\n",
      "Updating Position from trade log:  GOOGL B 4.0 1266.0\n",
      "Updating Position from trade log:  NVDA B 16.0 253.37\n",
      "Updating Position from trade log:  BKNG B 5.0 2043.0\n",
      "Updating Position from trade log:  SBUX B 200.0 51.39\n",
      "Updating Position from trade log:  DIS B 130.0 111.48\n",
      "Updating Position from trade log:  FB B 25.0 215.81\n",
      "Updating Position from trade log:  FB B 19.0 168.0\n",
      "Updating Position from trade log:  MCO B 35.0 170.0\n",
      "Updating Position from trade log:  MC.BK S -100.0 12.5\n",
      "Updating Position from trade log:  CPALL.BK B 4000.0 74.75\n",
      "Updating Position from trade log:  SVH.BK B 1000.0 456.0\n",
      "Updating Position from trade log:  CPALL.BK B 2000.0 74.0\n",
      "Updating Position from trade log:  BKNG B 2.0 1918.0\n",
      "Updating Position from trade log:  FB B 22.0 160.85\n",
      "Updating Position from trade log:  GOOGL B 3.0 1167.45\n",
      "Updating Position from trade log:  MCO B 12.0 179.11\n",
      "Updating Position from trade log:  DIS B 16.0 109.12\n",
      "Updating Position from trade log:  SBUX B 29.0 54.5\n",
      "Updating Position from trade log:  CPALL.BK B 2300.0 67.75\n",
      "Updating Position from trade log:  GOOGL B 3.0 1098.0\n",
      "Updating Position from trade log:  FB B 15.0 143.34\n",
      "Updating Position from trade log:  SVH.BK B 500.0 454.0\n",
      "Updating Position from trade log:  SVH.BK B 200.0 432.0\n",
      "Updating Position from trade log:  BKNG B 2.0 1758.6\n",
      "Updating Position from trade log:  GOOGL B 9.0 1105.09\n",
      "Updating Position from trade log:  ATHM B 100.0 82.16\n",
      "Updating Position from trade log:  SBUX S -330.0 88.32\n",
      "Updating Position from trade log:  DIS S -151.0 130.03\n",
      "Updating Position from trade log:  TWTR B 100.0 31.47\n",
      "Updating Position from trade log:  FB B 40.0 184.92\n",
      "Updating Position from trade log:  M.BK B 2000.0 72.37\n",
      "Updating Position from trade log:  ATHM B 79.0 75.85\n",
      "Updating Position from trade log:  NETBAY.BK B 10700.0 33.0\n",
      "Updating Position from trade log:  HBI B 900.0 14.1\n",
      "Updating Position from trade log:  CPALL.BK B 3000.0 67.5\n",
      "Updating Position from trade log:  BKNG S -12.0 1711.22\n",
      "Updating Position from trade log:  FB B 20.0 189.13\n",
      "Updating Position from trade log:  MSFT B 60.0 167.48\n",
      "Updating Position from trade log:  GOOGL B 3.0 1348.8\n",
      "Updating Position from trade log:  MA B 95.0 275.3\n",
      "Updating Position from trade log:  CPALL.BK B 3300.0 60.5\n",
      "Updating Position from trade log:  MINT.BK B 55000.0 14.62\n",
      "Updating Position from trade log:  BKNG B 10.0 1402.0\n",
      "Updating Position from trade log:  PVH B 300.0 41.06\n",
      "Updating Position from trade log:  FB B 30.0 159.16\n",
      "Updating Position from trade log:  FB B 30.0 160.44\n",
      "Updating Position from trade log:  MAJOR.BK B 23400.0 12.72\n",
      "Updating Position from trade log:  MAJOR.BK B 46000.0 13.12\n",
      "Updating Position from trade log:  SABINA.BK B 20000.0 16.9\n",
      "Updating Position from trade log:  MINT.BK S -55000.0 16.8\n",
      "Updating Position from trade log:  BBL.BK B 5000.0 102.67\n",
      "Updating Position from trade log:  M.BK B 10000.0 45.58\n",
      "Updating Position from trade log:  MAJOR.BK S -69400.0 14.77\n",
      "Updating Position from trade log:  MA B 35.0 292.24\n",
      "Updating Position from trade log:  MSFT B 75.0 202.4\n",
      "Diff set between position df and price df: {'cash_dep', 'cash_dep_bm'}\n"
     ]
    }
   ],
   "source": [
    "P = Portfolio().from_gs(GS_URL)"
   ]
  },
  {
   "cell_type": "markdown",
   "metadata": {},
   "source": [
    "## test compute return and portfolio value"
   ]
  },
  {
   "cell_type": "code",
   "execution_count": 4,
   "metadata": {},
   "outputs": [],
   "source": [
    "dfp = P.get_portfolio_value_and_return()"
   ]
  },
  {
   "cell_type": "code",
   "execution_count": 8,
   "metadata": {},
   "outputs": [
    {
     "data": {
      "text/plain": [
       "<matplotlib.axes._subplots.AxesSubplot at 0x7fa4d1901518>"
      ]
     },
     "execution_count": 8,
     "metadata": {},
     "output_type": "execute_result"
    },
    {
     "data": {
      "image/png": "[encoded data removed]",
      "text/plain": [
       "<matplotlib.figure.Figure at 0x7fa4d1c5c978>"
      ]
     },
     "metadata": {},
     "output_type": "display_data"
    },
    {
     "data": {
      "image/png": "[encoded data removed]",
      "text/plain": [
       "<matplotlib.figure.Figure at 0x7fa4d1c5c0f0>"
      ]
     },
     "metadata": {},
     "output_type": "display_data"
    }
   ],
   "source": [
    "dfp['cum_gain'].plot()\n",
    "plt.figure()\n",
    "dfp['portfolio_value'].plot()"
   ]
  }
 ],
 "metadata": {
  "kernelspec": {
   "display_name": "Python 3",
   "language": "python",
   "name": "python3"
  },
  "language_info": {
   "codemirror_mode": {
    "name": "ipython",
    "version": 3
   },
   "file_extension": ".py",
   "mimetype": "text/x-python",
   "name": "python",
   "nbconvert_exporter": "python",
   "pygments_lexer": "ipython3",
   "version": "3.6.8"
  }
 },
 "nbformat": 4,
 "nbformat_minor": 2
}
