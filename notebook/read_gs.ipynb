{
 "cells": [
  {
   "cell_type": "code",
   "execution_count": 1,
   "metadata": {},
   "outputs": [],
   "source": [
    "import pandas as pd\n",
    "import numpy as np\n",
    "import datetime as dt\n",
    "\n",
    "pd.options.display.float_format = '{:.4f}'.format\n",
    "pd.set_option('display.max_rows', 500)\n",
    "pd.set_option('display.max_colwidth', -1)\n",
    "\n",
    "import matplotlib.pyplot as plt\n",
    "import seaborn as sns\n",
    "sns.set(style=\"darkgrid\")\n",
    "\n",
    "%matplotlib inline\n",
    "%load_ext autoreload\n",
    "%autoreload 2"
   ]
  },
  {
   "cell_type": "code",
   "execution_count": null,
   "metadata": {
    "collapsed": true
   },
   "outputs": [],
   "source": [
    "## EXAMPLE\n",
    "URL = \"https://spreadsheets.google.com/tq?tqx=out:html&tq=&key=14yFTnITXiT8c-DVd1InqguhPqpcNFjh9_y_qNButXQQ\"\n",
    "df = pd.read_html(URL)[0]\n",
    "df.columns = df.iloc[0]\n",
    "df = df[1:]\n",
    "\n",
    "df.dropna(axis=1, how='all',inplace=True)\n",
    "df.dropna(axis=0, how='all',inplace=True)"
   ]
  },
  {
   "cell_type": "code",
   "execution_count": 20,
   "metadata": {
    "collapsed": true
   },
   "outputs": [],
   "source": [
    "def read_gs(gs_url):\n",
    "    df = pd.read_html(gs_url,)[0]\n",
    "    df.columns = df.iloc[0]\n",
    "    df = df[1:]\n",
    "    df.dropna(axis=1, how='all',inplace=True)\n",
    "    df.dropna(axis=0, thresh=5,inplace=True)\n",
    "    return df"
   ]
  },
  {
   "cell_type": "code",
   "execution_count": 24,
   "metadata": {
    "collapsed": true
   },
   "outputs": [],
   "source": [
    "#url_test = \"https://docs.google.com/spreadsheets/d/1Ts6BSGN3XE3bgJaUpeNZAd3foaBRCtiwDKPdcpAGiNA/edit?usp=sharing\"\n",
    "#url_test = 'https://docs.google.com/spreadsheets/d/1Ts6BSGN3XE3bgJaUpeNZAd3foaBRCtiwDKPdcpAGiNA/edit?usp=sharing'\n",
    "url_test = 'https://docs.google.com/spreadsheets/d/14yFTnITXiT8c-DVd1InqguhPqpcNFjh9_y_qNButXQQ/edit?usp=sharing'"
   ]
  },
  {
   "cell_type": "code",
   "execution_count": 25,
   "metadata": {},
   "outputs": [],
   "source": [
    "df = read_gs(url_test)"
   ]
  },
  {
   "cell_type": "code",
   "execution_count": 26,
   "metadata": {},
   "outputs": [
    {
     "data": {
      "text/html": [
       "<div>\n",
       "<style scoped>\n",
       "    .dataframe tbody tr th:only-of-type {\n",
       "        vertical-align: middle;\n",
       "    }\n",
       "\n",
       "    .dataframe tbody tr th {\n",
       "        vertical-align: top;\n",
       "    }\n",
       "\n",
       "    .dataframe thead th {\n",
       "        text-align: right;\n",
       "    }\n",
       "</style>\n",
       "<table border=\"1\" class=\"dataframe\">\n",
       "  <thead>\n",
       "    <tr style=\"text-align: right;\">\n",
       "      <th></th>\n",
       "      <th>1.0</th>\n",
       "      <th>Date</th>\n",
       "      <th>Country</th>\n",
       "      <th>Type</th>\n",
       "      <th>Asset</th>\n",
       "      <th>Class</th>\n",
       "      <th>Ticker</th>\n",
       "      <th>Action</th>\n",
       "      <th>No.</th>\n",
       "      <th>Price</th>\n",
       "      <th>Commission</th>\n",
       "      <th>Value</th>\n",
       "      <th>Value(Baht)</th>\n",
       "      <th>Current(Baht)</th>\n",
       "      <th>Current Price</th>\n",
       "      <th>Percent</th>\n",
       "      <th>Annualized</th>\n",
       "      <th>Gain/Loss</th>\n",
       "      <th>Comment</th>\n",
       "    </tr>\n",
       "  </thead>\n",
       "  <tbody>\n",
       "    <tr>\n",
       "      <td>2</td>\n",
       "      <td>3.0000</td>\n",
       "      <td>11/2/2020</td>\n",
       "      <td>us</td>\n",
       "      <td>s</td>\n",
       "      <td>eq</td>\n",
       "      <td>s_eq</td>\n",
       "      <td>MSFT</td>\n",
       "      <td>B</td>\n",
       "      <td>75</td>\n",
       "      <td>202.40</td>\n",
       "      <td>0</td>\n",
       "      <td>15180.00</td>\n",
       "      <td>478170.00</td>\n",
       "      <td>508480.88</td>\n",
       "      <td>215.23</td>\n",
       "      <td>6.34%</td>\n",
       "      <td>122.82%</td>\n",
       "      <td>30310.88</td>\n",
       "      <td>NaN</td>\n",
       "    </tr>\n",
       "    <tr>\n",
       "      <td>3</td>\n",
       "      <td>4.0000</td>\n",
       "      <td>11/2/2020</td>\n",
       "      <td>us</td>\n",
       "      <td>s</td>\n",
       "      <td>eq</td>\n",
       "      <td>s_eq</td>\n",
       "      <td>MA</td>\n",
       "      <td>B</td>\n",
       "      <td>35</td>\n",
       "      <td>292.24</td>\n",
       "      <td>0</td>\n",
       "      <td>10228.40</td>\n",
       "      <td>322194.60</td>\n",
       "      <td>373824.68</td>\n",
       "      <td>339.07</td>\n",
       "      <td>16.02%</td>\n",
       "      <td>594.15%</td>\n",
       "      <td>51630.08</td>\n",
       "      <td>NaN</td>\n",
       "    </tr>\n",
       "    <tr>\n",
       "      <td>4</td>\n",
       "      <td>5.0000</td>\n",
       "      <td>10/6/2020</td>\n",
       "      <td>th</td>\n",
       "      <td>s</td>\n",
       "      <td>eq</td>\n",
       "      <td>s_eq</td>\n",
       "      <td>M.BK</td>\n",
       "      <td>B</td>\n",
       "      <td>10000</td>\n",
       "      <td>45.58</td>\n",
       "      <td>0</td>\n",
       "      <td>455764.00</td>\n",
       "      <td>455764.00</td>\n",
       "      <td>557500.00</td>\n",
       "      <td>55.75</td>\n",
       "      <td>22.32%</td>\n",
       "      <td>280.81%</td>\n",
       "      <td>101736.00</td>\n",
       "      <td>NaN</td>\n",
       "    </tr>\n",
       "    <tr>\n",
       "      <td>5</td>\n",
       "      <td>9.0000</td>\n",
       "      <td>5/27/2020</td>\n",
       "      <td>th</td>\n",
       "      <td>s</td>\n",
       "      <td>eq</td>\n",
       "      <td>s_eq</td>\n",
       "      <td>BBL.BK</td>\n",
       "      <td>B</td>\n",
       "      <td>5000</td>\n",
       "      <td>102.67</td>\n",
       "      <td>770.04</td>\n",
       "      <td>512589.96</td>\n",
       "      <td>512589.96</td>\n",
       "      <td>612500.00</td>\n",
       "      <td>122.50</td>\n",
       "      <td>19.31%</td>\n",
       "      <td>41.15%</td>\n",
       "      <td>99910.04</td>\n",
       "      <td>NaN</td>\n",
       "    </tr>\n",
       "    <tr>\n",
       "      <td>6</td>\n",
       "      <td>11.0000</td>\n",
       "      <td>4/27/2020</td>\n",
       "      <td>th</td>\n",
       "      <td>s</td>\n",
       "      <td>eq</td>\n",
       "      <td>s_eq</td>\n",
       "      <td>SABINA.BK</td>\n",
       "      <td>B</td>\n",
       "      <td>20000</td>\n",
       "      <td>16.90</td>\n",
       "      <td>0</td>\n",
       "      <td>338000.00</td>\n",
       "      <td>338000.00</td>\n",
       "      <td>426000.00</td>\n",
       "      <td>21.30</td>\n",
       "      <td>26.04%</td>\n",
       "      <td>47.58%</td>\n",
       "      <td>88000.00</td>\n",
       "      <td>NaN</td>\n",
       "    </tr>\n",
       "  </tbody>\n",
       "</table>\n",
       "</div>"
      ],
      "text/plain": [
       "0     1.0       Date Country Type Asset Class     Ticker Action    No.  \\\n",
       "2 3.0000   11/2/2020  us      s    eq    s_eq  MSFT       B      75      \n",
       "3 4.0000   11/2/2020  us      s    eq    s_eq  MA         B      35      \n",
       "4 5.0000   10/6/2020  th      s    eq    s_eq  M.BK       B      10000   \n",
       "5 9.0000   5/27/2020  th      s    eq    s_eq  BBL.BK     B      5000    \n",
       "6 11.0000  4/27/2020  th      s    eq    s_eq  SABINA.BK  B      20000   \n",
       "\n",
       "0   Price Commission      Value Value(Baht) Current(Baht) Current Price  \\\n",
       "2  202.40  0          15180.00   478170.00   508480.88     215.23         \n",
       "3  292.24  0          10228.40   322194.60   373824.68     339.07         \n",
       "4  45.58   0          455764.00  455764.00   557500.00     55.75          \n",
       "5  102.67  770.04     512589.96  512589.96   612500.00     122.50         \n",
       "6  16.90   0          338000.00  338000.00   426000.00     21.30          \n",
       "\n",
       "0 Percent Annualized  Gain/Loss Comment  \n",
       "2  6.34%   122.82%    30310.88   NaN     \n",
       "3  16.02%  594.15%    51630.08   NaN     \n",
       "4  22.32%  280.81%    101736.00  NaN     \n",
       "5  19.31%  41.15%     99910.04   NaN     \n",
       "6  26.04%  47.58%     88000.00   NaN     "
      ]
     },
     "execution_count": 26,
     "metadata": {},
     "output_type": "execute_result"
    }
   ],
   "source": [
    "df.head()"
   ]
  },
  {
   "cell_type": "code",
   "execution_count": null,
   "metadata": {},
   "outputs": [],
   "source": [
    "## FORMAT DATA\n",
    "DATE_COL = 'date'\n",
    "TICKER_COL = 'ticker'\n",
    "ACTION_COL = 'action'\n",
    "NUM_COL = 'no.'\n",
    "PRICE_COL = 'price'\n",
    "\n",
    "df.columns = [str(x).lower() for x in df.columns]\n",
    "\n",
    "all_tickers = sorted(list(df[TICKER_COL].unique()))\n",
    "\n",
    "df[DATE_COL] = pd.to_datetime(df[DATE_COL]).dt.date\n",
    "begin_date, end_date = df[DATE_COL].min(), df[DATE_COL].max()\n",
    "date_ls = [begin_date+dt.timedelta(days=k-1) for k in range((end_date - begin_date).days+2)]\n",
    "print(date_ls[0],date_ls[-1],begin_date, end_date)\n",
    "df.sort_values(by=DATE_COL,inplace=True)\n",
    "\n",
    "df[NUM_COL] = df[NUM_COL].astype(float) \n",
    "df[PRICE_COL] = df[PRICE_COL].astype(float)"
   ]
  },
  {
   "cell_type": "code",
   "execution_count": null,
   "metadata": {
    "collapsed": true,
    "scrolled": true
   },
   "outputs": [],
   "source": [
    "from pandas_datareader import data as pdr\n",
    "def get_price_data(ticker, start_date, end_date):\n",
    "    \"\"\"\n",
    "\n",
    "    :param ticker: ticker of the stock in Yahoo\n",
    "    :type ticker: str (eg. cpall, PTT)\n",
    "    :param start_date: start date of the data\n",
    "    :type start_date: str in the format 'YYYY-MM-DD'\n",
    "    :param end_date: the last date of the data\n",
    "    :type end_date str in the format 'YYYY-MM-DD'\n",
    "    :return: pd.DataFrame\n",
    "    \"\"\"\n",
    "    # DOWNLOADING DATA\n",
    "    ticker_yh = ticker.upper()\n",
    "    data = pdr.get_data_yahoo(\n",
    "        ticker_yh,\n",
    "        start=start_date, end=end_date\n",
    "    ).reset_index()\n",
    "    data['yahoo_symbol'] = ticker_yh\n",
    "    return data"
   ]
  },
  {
   "cell_type": "code",
   "execution_count": null,
   "metadata": {
    "scrolled": true
   },
   "outputs": [],
   "source": [
    "import datetime as dt\n",
    "min_date_str = dt.date.strftime(date_ls[0]-dt.timedelta(days=7), '%Y%m%d')\n",
    "max_date_str = dt.date.strftime(dt.date.today(), '%Y%m%d')\n",
    "df_price = pd.DataFrame()\n",
    "for ticker in all_tickers:\n",
    "    try:\n",
    "        dfs = get_price_data(ticker,start_date=min_date_str,end_date=max_date_str)\n",
    "        df_price = df_price.append(dfs)\n",
    "        print(ticker, df_price.shape)\n",
    "    except:\n",
    "        print('ERROR', ticker)"
   ]
  },
  {
   "cell_type": "code",
   "execution_count": null,
   "metadata": {
    "collapsed": true
   },
   "outputs": [],
   "source": [
    "df_price.to_csv(\"price_data_test.csv\")"
   ]
  },
  {
   "cell_type": "code",
   "execution_count": null,
   "metadata": {
    "collapsed": true
   },
   "outputs": [],
   "source": [
    "def get_action_sign(a_str):\n",
    "    if a_str.lower().startswith('b'):\n",
    "        return 1\n",
    "    if a_str.lower().startswith('s'):\n",
    "        return -1\n",
    "    print(f\"Unknown action {a_str}: return zero\")\n",
    "    return 0\n",
    "\n",
    "def is_local_ticker(ticker):\n",
    "    return ticker.endswith('.BK')"
   ]
  },
  {
   "cell_type": "code",
   "execution_count": null,
   "metadata": {
    "scrolled": true
   },
   "outputs": [],
   "source": [
    "print(begin_date, end_date, date_ls[0], date_ls[-1])\n",
    "import copy\n",
    "ticker_ls = sorted(list(df[TICKER_COL].unique()))\n",
    "initial_cash = 1e6\n",
    "USD_THB = 31.0\n",
    "\n",
    "cur_pos = {k:0 for k in ticker_ls}\n",
    "cur_pos['cash'] = initial_cash\n",
    "pos = {d:copy.copy({k:np.nan for k in ticker_ls}) for d in date_ls}\n",
    "pos[date_ls[0]]['cash'] = initial_cash\n",
    "cur_d = date_ls[0]-dt.timedelta(days=1)\n",
    "for r in zip(df[DATE_COL], df[TICKER_COL], df[ACTION_COL], df[NUM_COL], df[PRICE_COL]):\n",
    "    #update position of ticker and date\n",
    "    d, ticker, a_str, num, p = r\n",
    "    a = get_action_sign(a_str)\n",
    "    p_local = p*USD_THB if not is_local_ticker(ticker) else p\n",
    "    #print(d, ticker, a_str, a,num, p, p_local)\n",
    "    if d > cur_d:\n",
    "        pos[cur_d] = copy.copy(cur_pos)\n",
    "        cur_d = d\n",
    "    pos[d][ticker] = cur_pos[ticker] + a*num\n",
    "    cur_pos['cash'] =  cur_pos['cash'] - a*num*p_local\n",
    "    cur_pos[ticker] = pos[d][ticker]\n",
    "df_pos = pd.DataFrame(pos).T.sort_index().fillna(method='ffill').fillna(0)  \n",
    "\n",
    "idx = ~df_price['yahoo_symbol'].str.contains('.BK')\n",
    "df_price['adj_close_local'] = df_price['Adj Close']\n",
    "df_price.loc[idx,'adj_close_local'] = df_price.loc[idx,'Adj Close']*USD_THB\n",
    "df_price_tb = df_price.pivot_table(values='adj_close_local', index='Date', columns='yahoo_symbol')\n",
    "df_price_tb['cash'] = 1.0\n",
    "diff_set = set(df_pos.columns).difference(df_price_tb.columns)\n",
    "print(diff_set)\n",
    "assert diff_set == set()\n",
    "df_price_tb = df_price_tb[df_pos.columns]\n",
    "\n",
    "df_pos = df_pos.merge(df_price_tb.fillna(method='ffill'), how='left', left_index=True, right_index=True, suffixes=('','_Price'))\n",
    "df_pos = df_pos.fillna(method='ffill')"
   ]
  },
  {
   "cell_type": "code",
   "execution_count": null,
   "metadata": {
    "collapsed": true
   },
   "outputs": [],
   "source": [
    "cols = ticker_ls\n",
    "p_cols = [f\"{x}_Price\" for x in cols] \n",
    "df_pos['portfolio_value'] = df_pos[cols].multiply(df_pos[p_cols]).sum(axis=1)"
   ]
  },
  {
   "cell_type": "code",
   "execution_count": null,
   "metadata": {
    "collapsed": true
   },
   "outputs": [],
   "source": [
    "df_value = df_pos[cols].multiply(df_pos[p_cols].rename(columns=dict(zip(p_cols,cols))))\n",
    "df_value.columns = [f\"{x}_Value\" for x in cols]"
   ]
  },
  {
   "cell_type": "code",
   "execution_count": null,
   "metadata": {},
   "outputs": [],
   "source": [
    "df_value.tail(10).T.sort_values(by='2020-11-02')"
   ]
  },
  {
   "cell_type": "code",
   "execution_count": null,
   "metadata": {
    "collapsed": true
   },
   "outputs": [],
   "source": [
    "df_pos['portfolio_value'] = df_pos[cols].multiply(df_pos[p_cols].rename(columns=dict(zip(p_cols,cols)))).sum(axis=1)\n",
    "df_pos['portfolio_value_with_cash'] = df_pos['portfolio_value'] + df_pos['cash']"
   ]
  },
  {
   "cell_type": "code",
   "execution_count": null,
   "metadata": {},
   "outputs": [],
   "source": [
    "plt.figure(figsize=(20,10))\n",
    "df_pos['portfolio_value'].plot()\n",
    "plt.figure(figsize=(20,10))\n",
    "df_pos['portfolio_value_with_cash'].plot()"
   ]
  },
  {
   "cell_type": "code",
   "execution_count": null,
   "metadata": {},
   "outputs": [],
   "source": [
    "df_pos.tail(10).T"
   ]
  },
  {
   "cell_type": "code",
   "execution_count": null,
   "metadata": {
    "collapsed": true
   },
   "outputs": [],
   "source": []
  }
 ],
 "metadata": {
  "kernelspec": {
   "display_name": "Python 3",
   "language": "python",
   "name": "python3"
  },
  "language_info": {
   "codemirror_mode": {
    "name": "ipython",
    "version": 3
   },
   "file_extension": ".py",
   "mimetype": "text/x-python",
   "name": "python",
   "nbconvert_exporter": "python",
   "pygments_lexer": "ipython3",
   "version": "3.6.8"
  }
 },
 "nbformat": 4,
 "nbformat_minor": 2
}
